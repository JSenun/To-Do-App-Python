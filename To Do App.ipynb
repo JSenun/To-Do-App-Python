{
 "cells": [
  {
   "cell_type": "markdown",
   "id": "67215c3e",
   "metadata": {},
   "source": [
    "# To Do App - Lista de tarefas\n",
    "\n",
    "## Descrição\n",
    "Criar aplicativo de lista de tarefas usando PySimpleGUI, utilizando um arquivo JSON como um DB não relacional para armazenar os dados das tarefas.\n",
    "\n",
    "### A Fazer\n",
    "<ol>\n",
    "    <li>Criar forma de armazenar os dados das tarefas</li>\n",
    "    <li>Criar funcionalidades do App</li>\n",
    "    <li>Criar interface gráfica usando PySimpleGUI</li>\n",
    "</ol>"
   ]
  },
  {
   "cell_type": "markdown",
   "id": "5424e01f",
   "metadata": {},
   "source": [
    "### Armazenamento de dados\n",
    "<ol>\n",
    "    <li>Criar estrutura de dados utilizada pra cada tarefa</li>\n",
    "    <li>Criar o arquivo JSON que sera utilizado como DB não relacional</li>\n",
    "    <li>Criar funções para entrada e atualização dos dados</li>\n",
    "</ol>"
   ]
  },
  {
   "cell_type": "code",
   "execution_count": 31,
   "id": "461b8136",
   "metadata": {},
   "outputs": [],
   "source": [
    "# Criando funções para ler e atualizar o arquivo 'db.json'\n",
    "import json\n",
    "\n",
    "def le_arquivo_json(nome_arquivo):\n",
    "    with open(nome_arquivo, 'r', encoding='utf-8') as arquivo_json:\n",
    "        dados = json.load(arquivo_json)\n",
    "    return dados\n",
    "\n",
    "\n",
    "def atualiza_arquivo_json(nome_arquivo, dados_processados_arquivo):\n",
    "    with open(nome_arquivo, 'w', encoding='utf-8') as arquivo_json:\n",
    "        dados = json.dumps(dados_processados_arquivo)\n",
    "        dados = json.loads(dados)\n",
    "        json.dump(dados, arquivo_json)\n",
    "        "
   ]
  },
  {
   "cell_type": "code",
   "execution_count": 32,
   "id": "0b2e71b4",
   "metadata": {},
   "outputs": [],
   "source": [
    "# Criando a variavel que vai conter os dados das tarefas\n",
    "tarefas_db = le_arquivo_json('db.json')"
   ]
  },
  {
   "cell_type": "markdown",
   "id": "d340c7f8",
   "metadata": {},
   "source": [
    "### Criando funcionalidade APP\n",
    "\n",
    "<ol>\n",
    "    <li>Listar tarefas</li>\n",
    "    <li>Adicionar tarefa</li>\n",
    "    <li>Editar tarefa</li>\n",
    "    <li>Remover tarefa</li>\n",
    "    <li>Concluir tarefa</li>\n",
    "</ol>"
   ]
  },
  {
   "cell_type": "code",
   "execution_count": 33,
   "id": "ccf7b178",
   "metadata": {},
   "outputs": [],
   "source": [
    "# Criando tarefa\n",
    "from datetime import datetime\n",
    "\n",
    "def cria_tarefa(titulo_tarefa, desc_tarefa):\n",
    "    data = datetime.now()\n",
    "    dia = f\"{data.day:02d}/{data.month:02d}/{data.year}\"\n",
    "    tarefa = {\n",
    "        \"titulo_tarefa\": titulo_tarefa,\n",
    "        \"descricao_tarefa\": desc_tarefa,\n",
    "        \"data_criacao\": dia,\n",
    "        \"status_tarefa\": \"Pendente\"\n",
    "    }\n",
    "    print(tarefa)\n",
    "    return tarefa"
   ]
  },
  {
   "cell_type": "code",
   "execution_count": 7,
   "id": "f1404a70",
   "metadata": {},
   "outputs": [],
   "source": [
    "# Testando função com  a interface básica\n",
    "import PySimpleGUI as sg\n",
    "\n",
    "sg.theme('LightBlue3')\n",
    "\n",
    "# Função que cria a janela do formulário de criação de tarefa\n",
    "def form_criar_tarefa():\n",
    "    layout = [\n",
    "        [sg.Text(\"Titulo da tarefa: \"), sg.Input(key='titulo_tarefa')],\n",
    "        [sg.Text(\"Descrição da tarefa: \"), sg.Multiline(size=(40,5),key='desc_tarefa')],\n",
    "        [sg.Button('Adicionar tarefa')]\n",
    "    ]\n",
    "\n",
    "\n",
    "    janela = sg.Window('To Do APP', layout)\n",
    "\n",
    "    while True:\n",
    "        eventos, valores = janela.read()\n",
    "\n",
    "        if eventos == sg.WINDOW_CLOSED:\n",
    "            break\n",
    "        if eventos == 'Adicionar tarefa':\n",
    "            titulo_tarefa = valores['titulo_tarefa']\n",
    "            desc_tarefa = valores['desc_tarefa']\n",
    "            cria_tarefa(titulo_tarefa, desc_tarefa)\n",
    "    janela.close()\n",
    "        \n",
    "# Função que gera a janela principal do APP\n",
    "def main():\n",
    "    cabecalho_tabela = ['Título', 'Descrição', 'Data Criação']\n",
    "    layout = [\n",
    "        [sg.Text(\"To Do APP\")],\n",
    "        [sg.Table(values=['Criar função', 'Criar função 01', '27/03/2023'], headings=cabecalho_tabela,\n",
    "                            auto_size_columns=True,\n",
    "                            display_row_numbers=False,\n",
    "                            justification='center', key='-TABLE-',\n",
    "                            selected_row_colors='white on blue',\n",
    "                            enable_events=True,\n",
    "                            expand_x=True,\n",
    "                            expand_y=True,\n",
    "                            enable_click_events=True)],\n",
    "        [sg.Button(\"Criar tarefa\")]\n",
    "    ]\n",
    "    \n",
    "    janela = sg.Window('To Do App', layout)\n",
    "    \n",
    "    while True:\n",
    "        eventos, valores = janela.read()\n",
    "\n",
    "        if eventos == sg.WINDOW_CLOSED:\n",
    "            break\n",
    "        if eventos == \"Criar tarefa\":\n",
    "            form_criar_tarefa()\n",
    "    janela.close()\n",
    "    \n",
    "if __name__ == '__main__':\n",
    "    main()"
   ]
  },
  {
   "cell_type": "code",
   "execution_count": null,
   "id": "7dd1dd0a",
   "metadata": {},
   "outputs": [],
   "source": []
  },
  {
   "cell_type": "code",
   "execution_count": null,
   "id": "b4363e79",
   "metadata": {},
   "outputs": [],
   "source": []
  }
 ],
 "metadata": {
  "kernelspec": {
   "display_name": "Python 3 (ipykernel)",
   "language": "python",
   "name": "python3"
  },
  "language_info": {
   "codemirror_mode": {
    "name": "ipython",
    "version": 3
   },
   "file_extension": ".py",
   "mimetype": "text/x-python",
   "name": "python",
   "nbconvert_exporter": "python",
   "pygments_lexer": "ipython3",
   "version": "3.9.13"
  }
 },
 "nbformat": 4,
 "nbformat_minor": 5
}
