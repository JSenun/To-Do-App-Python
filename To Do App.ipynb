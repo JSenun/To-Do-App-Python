{
 "cells": [
  {
   "cell_type": "markdown",
   "id": "67215c3e",
   "metadata": {},
   "source": [
    "# To Do App - Lista de tarefas\n",
    "\n",
    "## Descrição\n",
    "Criar aplicativo de lista de tarefas usando PySimpleGUI, utilizando um arquivo JSON como um DB não relacional para armazenar os dados das tarefas.\n",
    "\n",
    "### A Fazer\n",
    "<ol>\n",
    "    <li>Criar forma de armazenar os dados das tarefas</li>\n",
    "    <li>Criar funcionalidades do App</li>\n",
    "    <li>Criar interface gráfica usando PySimpleGUI</li>\n",
    "</ol>"
   ]
  },
  {
   "cell_type": "markdown",
   "id": "5424e01f",
   "metadata": {},
   "source": [
    "### Armazenamento de dados\n",
    "<ol>\n",
    "    <li>Criar estrutura de dados utilizada pra cada tarefa</li>\n",
    "    <li>Criar o arquivo JSON que sera utilizado como DB não relacional</li>\n",
    "    <li>Criar funções para entrada e atualização dos dados</li>\n",
    "</ol>"
   ]
  },
  {
   "cell_type": "code",
   "execution_count": 13,
   "id": "461b8136",
   "metadata": {},
   "outputs": [
    {
     "name": "stdout",
     "output_type": "stream",
     "text": [
      "{'titulo_tarefa': 'lorem ipsum2', 'descricao_tarefa': 'lorem ipsum dolor sit amet', 'data_criacao': '27/03/2023', 'status_tarefa': 'Pendente'}\n"
     ]
    }
   ],
   "source": [
    "import json\n",
    "\n",
    "def le_arquivo_json(nome_arquivo):\n",
    "    with open(nome_arquivo, 'r', encoding='utf-8') as arquivo_json:\n",
    "        dados = json.load(arquivo_json)\n",
    "    return dados\n",
    "\n",
    "\n",
    "def atualiza_arquivo_json(nome_arquivo, dados_processados_arquivo):\n",
    "    with open(nome_arquivo, 'w', encoding='utf-8') as arquivo_json:\n",
    "        dados = json.dumps(dados_processados_arquivo)\n",
    "        dados = json.loads(dados)\n",
    "        json.dump(dados, arquivo_json)\n",
    "        \n",
    "tarefas_db = le_arquivo_json('db.json')\n",
    "print(tarefas_db['tarefas']['tarefas_pendentes'][1])"
   ]
  },
  {
   "cell_type": "markdown",
   "id": "d340c7f8",
   "metadata": {},
   "source": [
    "### Criando funcionalidade APP\n",
    "\n",
    "<ol>\n",
    "    <li>Listar tarefas</li>\n",
    "    <li>Adicionar tarefa</li>\n",
    "    <li>Editar tarefa</li>\n",
    "    <li>Remover tarefa</li>\n",
    "    <li>Concluir tarefa</li>\n",
    "</ol>"
   ]
  },
  {
   "cell_type": "code",
   "execution_count": null,
   "id": "ccf7b178",
   "metadata": {},
   "outputs": [],
   "source": []
  }
 ],
 "metadata": {
  "kernelspec": {
   "display_name": "Python 3 (ipykernel)",
   "language": "python",
   "name": "python3"
  },
  "language_info": {
   "codemirror_mode": {
    "name": "ipython",
    "version": 3
   },
   "file_extension": ".py",
   "mimetype": "text/x-python",
   "name": "python",
   "nbconvert_exporter": "python",
   "pygments_lexer": "ipython3",
   "version": "3.9.13"
  }
 },
 "nbformat": 4,
 "nbformat_minor": 5
}
